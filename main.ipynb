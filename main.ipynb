{
 "cells": [
  {
   "cell_type": "code",
   "execution_count": null,
   "metadata": {},
   "outputs": [
    {
     "name": "stdout",
     "output_type": "stream",
     "text": [
      "You guessed too high!\n",
      "Invalid input. Please enter a number.\n",
      "You guessed too high!\n",
      "You guessed too high!\n",
      "You guessed too high!\n",
      "Invalid input. Please enter a number.\n",
      "Invalid input. Please enter a number.\n"
     ]
    }
   ],
   "source": [
    "import random\n",
    "\n",
    "\n",
    "def validate_input(input_num):\n",
    "    if not input_num.isdigit():\n",
    "        print('Invalid input. Please enter a number.')\n",
    "        return False\n",
    "\n",
    "    input_num = int(input_num)\n",
    "    if input_num < 1 or input_num > 100:\n",
    "        print('Invalid input. Please enter a number between 1 and 100.')\n",
    "        return False\n",
    "\n",
    "    return True\n",
    "\n",
    "\n",
    "def start_game():\n",
    "    rand_num = random.randint(1, 100)\n",
    "    score = 100\n",
    "\n",
    "    while True:\n",
    "        input_num = input(\"Enter your guess between 1 and 100:\")\n",
    "\n",
    "        if input_num == 'q':\n",
    "            print('Goodbye!')\n",
    "            break\n",
    "\n",
    "        if not validate_input(input_num):\n",
    "            continue\n",
    "\n",
    "        input_num = int(input_num)\n",
    "        if input_num == rand_num:\n",
    "            print(f'You guessed correctly! Your score is: {score}')\n",
    "            wanna_play = input('Do you want to play again? (y/n)')\n",
    "            if wanna_play == 'y':\n",
    "                rand_num = random.randint(1, 100)\n",
    "                score = 100\n",
    "                continue\n",
    "            else:\n",
    "                print('Goodbye!')\n",
    "                break\n",
    "\n",
    "        elif input_num > rand_num:\n",
    "            print('You guessed too high!')\n",
    "        else:\n",
    "            print('You guessed too low!')\n",
    "\n",
    "        score -= 10\n",
    "        score = max(score, 0)\n",
    "\n",
    "\n",
    "if __name__ == '__main__':\n",
    "    start_game()\n"
   ]
  },
  {
   "cell_type": "code",
   "execution_count": null,
   "metadata": {},
   "outputs": [],
   "source": []
  }
 ],
 "metadata": {
  "kernelspec": {
   "display_name": "Data_Processing",
   "language": "python",
   "name": "python3"
  },
  "language_info": {
   "codemirror_mode": {
    "name": "ipython",
    "version": 3
   },
   "file_extension": ".py",
   "mimetype": "text/x-python",
   "name": "python",
   "nbconvert_exporter": "python",
   "pygments_lexer": "ipython3",
   "version": "3.10.14"
  }
 },
 "nbformat": 4,
 "nbformat_minor": 2
}
